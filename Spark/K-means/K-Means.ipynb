{
 "cells": [
  {
   "cell_type": "code",
   "execution_count": 37,
   "metadata": {
    "collapsed": true
   },
   "outputs": [],
   "source": [
    "#  Find K Means of fictional device status locations\n",
    "from pprint import pprint"
   ]
  },
  {
   "cell_type": "code",
   "execution_count": 38,
   "metadata": {
    "collapsed": true
   },
   "outputs": [],
   "source": [
    "def distance(p1,p2):  \n",
    "    return (p1[0] - p2[0]) ** 2 + (p1[1] - p2[1]) ** 2\n",
    "\n",
    "\n",
    "# The sum of two points\n",
    "def add_points(p1,p2):\n",
    "    return [(p1[0] + p2[0]), (p1[1] + p2[1])]\n",
    "\n",
    "\n",
    "# The files with device status data\n",
    "filename = \"/fictional/devicestatus_etl/*\""
   ]
  },
  {
   "cell_type": "code",
   "execution_count": 46,
   "metadata": {},
   "outputs": [
    {
     "name": "stdout",
     "output_type": "stream",
     "text": [
      "Distancia Média:  20.0008451384\n",
      "Distancia Média:  8.13057155033\n",
      "Distancia Média:  0.419110188831\n",
      "Distancia Média:  0.222855924601\n",
      "Distancia Média:  0.0474823392142\n",
      "Distancia Média:  0.0525792925589\n",
      "Distancia Média:  0.0121069723554\n",
      "Distancia Média:  0.00459948494552\n",
      "Distancia Média:  0.00405326202804\n",
      "Distancia Média:  0.00454817964828\n",
      "Distancia Média:  0.00745126601867\n",
      "Distancia Média:  0.0150336284688\n",
      "Distancia Média:  0.0408243586057\n",
      "Distancia Média:  0.0590179521311\n",
      "Distancia Média:  0.00688949768\n",
      "Distancia Média:  0.00174892884683\n",
      "Distancia Média:  0.00213901835366\n",
      "Distancia Média:  0.00315192767543\n",
      "Distancia Média:  0.00190277497108\n",
      "Distancia Média:  0.00196079036863\n",
      "Distancia Média:  0.000752525242963\n"
     ]
    }
   ],
   "source": [
    "# K is the number of means (center points of clusters) to find\n",
    "K = 80\n",
    "\n",
    "\n",
    "# Split by delimiter, parse device status records into [latitude,longitude]\n",
    "# Filter out records where lat/long is unavailable -- ie: 0/0 points\n",
    "rdd = sc.textFile(filename) \\\n",
    "        .map(lambda s: s.split(',')) \\\n",
    "        .filter(lambda values: values[3]!='0' and values[4]!='0') \\\n",
    "        .map(lambda values: (float(values[3]), float(values[4])))\n",
    "\n",
    "        \n",
    "rdd.cache()\n",
    "# rdd.count() #94039\n",
    "# rdd.take(K)\n",
    "\n",
    "\n",
    "# start with K randomly selected points from the dataset\n",
    "sample = rdd.sample(False, .001, 1988).take(K) # Valores aleatórios iniciais\n",
    "# pprint(list(sample))\n",
    "\n",
    "\n",
    "def agrupe((px,py), sample):\n",
    "    d = float(\"+inf\")\n",
    "    near = (0,0)\n",
    "    for x,y in sample:\n",
    "        new_d = distance([px,py],[x,y])\n",
    "        if new_d <= d:\n",
    "            near = (x,y)\n",
    "            d = new_d\n",
    "    return near,((px,py), 1)\n",
    "\n",
    "\n",
    "# ConvergeDist -- the threshold \"distance\" between iterations at which we decide we are done\n",
    "convergeDist = max(min(1/K, .01), .001)\n",
    "\n",
    "\n",
    "# loop until the total distance between one iteration's points and the next is less than \n",
    "# the convergence distance specified\n",
    "tempDist = float(\"+inf\")\n",
    "\n",
    "\n",
    "while tempDist > convergeDist:\n",
    "    sample = rdd.map(lambda p: agrupe(p,sample)) \\\n",
    "                .reduceByKey(lambda k1,k2: (add_points(k1[0],k2[0]), k1[1]+k2[1])) \\\n",
    "                .mapValues(lambda (p,q): (p[0]/q,p[1]/q)) \\\n",
    "#         .take(K)\n",
    "    \n",
    "    tempDist = sum(list(sample.map(lambda (a,b): distance(a,b)).take(K)))\n",
    "    print('Distancia Média: ', tempDist)\n",
    "    \n",
    "    sample = sample.values().take(K)"
   ]
  },
  {
   "cell_type": "markdown",
   "metadata": {},
   "source": [
    " "
   ]
  },
  {
   "cell_type": "code",
   "execution_count": 48,
   "metadata": {},
   "outputs": [
    {
     "name": "stdout",
     "output_type": "stream",
     "text": [
      "[(37.24597671824258, -121.9488687077137),\n",
      " (34.44989999670529, -117.3429929596028),\n",
      " (36.20959158274142, -119.00160645757133),\n",
      " (39.711147212056176, -119.49929652925859),\n",
      " (40.13196687167813, -122.32649781023237),\n",
      " (45.83817924049371, -121.84970909271166),\n",
      " (33.59824274237049, -111.7456586560545),\n",
      " (36.58480105564365, -120.87718973793957),\n",
      " (34.31466290366444, -118.51133701249793),\n",
      " (39.56049101444568, -120.92795485719817),\n",
      " (33.87580140337335, -117.47836502702526),\n",
      " (36.22911684400944, -113.8282149106722),\n",
      " (33.90295245799995, -108.81985111778866),\n",
      " (32.22388852885904, -111.63668694159439),\n",
      " (37.531446718548885, -121.91605104496782),\n",
      " (36.30039104648227, -114.77114012959953),\n",
      " (38.32931211286598, -122.25812827760988),\n",
      " (45.28434654289552, -117.68504186273312),\n",
      " (37.67475519977155, -121.43624274273088),\n",
      " (37.88338079566217, -121.88567258119325),\n",
      " (38.02864616883508, -121.58765445866764),\n",
      " (38.62701083397112, -122.17107558840803),\n",
      " (38.58416974077095, -122.7368253081486),\n",
      " (34.03485456729134, -116.72729497277017),\n",
      " (38.037768291454746, -122.56808170154339),\n",
      " (33.09861329038833, -116.89224141121817),\n",
      " (41.22226569596838, -117.08802671200412),\n",
      " (39.49068553826782, -120.4888460080048),\n",
      " (35.168440390920445, -111.60387030880142),\n",
      " (32.71676884832491, -110.64894202408975),\n",
      " (35.08572281028267, -115.72000797348484),\n",
      " (45.87215242612425, -122.86447748049774),\n",
      " (38.90368815484728, -121.12095543486777),\n",
      " (37.37419880695781, -121.37172958948858),\n",
      " (39.65623938316998, -114.53341153820284),\n",
      " (38.44400002118605, -121.13332447463786),\n",
      " (45.24154022008823, -122.20746388178654),\n",
      " (38.241444897123905, -121.94600486375482),\n",
      " (32.847655993740176, -116.97804989958897),\n",
      " (33.93180600316684, -118.18026737957143),\n",
      " (34.312646201265096, -117.63837296780585),\n",
      " (35.72939897792461, -120.1646767239727),\n",
      " (35.37642475661949, -117.71704645059867),\n",
      " (34.5619635985605, -116.26928207815388),\n",
      " (34.39585769132741, -119.45868923080462),\n",
      " (42.03382572570143, -123.88193978723294),\n",
      " (42.93427773983088, -122.56448557630193),\n",
      " (35.489272157529136, -120.29179476849549),\n",
      " (37.33948004019328, -121.66475806804313),\n",
      " (35.723008046503246, -120.44127837065689),\n",
      " (38.080646616877914, -119.85531323922179),\n",
      " (33.87599452219808, -117.74946723456793),\n",
      " (37.51558070893613, -122.18002490988007),\n",
      " (38.06328673729538, -122.17766365122564),\n",
      " (34.15969938547496, -117.42687449659614),\n",
      " (34.533220377974274, -117.7940572479216),\n",
      " (34.09499110514007, -117.7595769644503),\n",
      " (45.61997999755655, -122.90333968514165),\n",
      " (34.64506967253357, -119.72963403372982),\n",
      " (34.25861834549632, -118.25369319925358),\n",
      " (32.95010212847871, -116.57659949910156),\n",
      " (33.31326780269797, -116.66678928533622),\n",
      " (33.93170803739725, -117.9673618530538),\n",
      " (34.601348828339944, -118.41395915386525),\n",
      " (34.39528730227998, -119.70612448029205),\n",
      " (38.84180378539103, -122.74434595401794),\n",
      " (34.18989690888067, -118.05351383614949),\n",
      " (35.025927149733754, -114.33735743133667),\n",
      " (37.80288333246957, -122.19935682788474),\n",
      " (34.6049512871316, -118.12944951926347),\n",
      " (34.64286991783719, -119.48640534299284),\n",
      " (34.425141341342474, -118.04752518681646),\n",
      " (37.62761050425906, -121.6670392091808),\n",
      " (33.37787748867801, -109.00600394037522),\n",
      " (36.99936334529007, -119.38681265165961),\n",
      " (34.49379251039342, -118.86027034754488),\n",
      " (33.1989641329744, -116.41248096522834),\n",
      " (44.451705393782646, -122.98191392686236),\n",
      " (36.330410380154554, -120.88100833989463),\n",
      " (34.26523697788064, -117.86494037379782)]\n"
     ]
    }
   ],
   "source": [
    "# Display the final points\n",
    "pprint(sample)"
   ]
  },
  {
   "cell_type": "markdown",
   "metadata": {},
   "source": [
    "   ."
   ]
  }
 ],
 "metadata": {
  "kernelspec": {
   "display_name": "Python 3",
   "language": "python",
   "name": "python3"
  },
  "language_info": {
   "codemirror_mode": {
    "name": "ipython",
    "version": 3
   },
   "file_extension": ".py",
   "mimetype": "text/x-python",
   "name": "python",
   "nbconvert_exporter": "python",
   "pygments_lexer": "ipython3",
   "version": "3.6.1"
  }
 },
 "nbformat": 4,
 "nbformat_minor": 1
}
