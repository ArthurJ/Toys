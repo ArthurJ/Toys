{
 "cells": [
  {
   "cell_type": "markdown",
   "metadata": {},
   "source": [
    "__HTTP requests to the NASA Kennedy Space Center WWW server__\n",
    "\n",
    "Fonte oficial do dateset: http://ita.ee.lbl.gov/html/contrib/NASA-HTTP.html\n",
    "\n",
    "__Dados:__\n",
    "- Jul 01 to Jul 31, ASCII format, 20.7 MB gzip compressed, 205.2 MB.\n",
    "- Aug 04 to Aug 31, ASCII format, 21.8 MB gzip compressed, 167.8 MB.\n",
    "\n",
    "__Sobre o dataset__: Esses dois conjuntos de dados possuem todas as requisições HTTP para o servidor da NASA Kennedy\n",
    "Space Center WWW na Flórida para um período específico.\n",
    "\n",
    "Os logs estão em arquivos ASCII com uma linha por requisição com as seguintes colunas:\n",
    "\n",
    "- __Host fazendo a requisição__. Um hostname quando possível, caso contrário o endereço de internet se o nome não puder ser identificado.\n",
    "- __Timestamp__ no formato [DIA/MÊS/ANO:HH:MM:SS YYYY] onde YYYY é o fuso horário. \n",
    "- __Requisição__\n",
    "- __Código do retorno HTTP__\n",
    "- __Total de bytes retornados__"
   ]
  },
  {
   "cell_type": "markdown",
   "metadata": {},
   "source": [
    " "
   ]
  },
  {
   "cell_type": "markdown",
   "metadata": {},
   "source": [
    "    Fazendo importações e criando um acumulador personalizado para obter os hosts de linhas defeituosas:"
   ]
  },
  {
   "cell_type": "code",
   "execution_count": 2,
   "metadata": {
    "collapsed": true
   },
   "outputs": [],
   "source": [
    "from pyspark import AccumulatorParam\n",
    "\n",
    "class StringAccumulatorParam(AccumulatorParam):\n",
    "    def zero(self, initialValue=''):\n",
    "        return ''\n",
    " \n",
    "    def addInPlace(self, s1, s2):\n",
    "        return s1.strip() + '|' + s2.strip()\n",
    "\n",
    "acc_log = sc.accumulator('', StringAccumulatorParam())"
   ]
  },
  {
   "cell_type": "markdown",
   "metadata": {},
   "source": [
    " "
   ]
  },
  {
   "cell_type": "markdown",
   "metadata": {},
   "source": [
    "    Criando DataFrame com as linhas que obedecem o padrão, e filtrando as linhas que não obedecem:"
   ]
  },
  {
   "cell_type": "code",
   "execution_count": 3,
   "metadata": {
    "collapsed": true
   },
   "outputs": [],
   "source": [
    "def filtro(linha, accumulator=acc_log):\n",
    "    if len(linha.split(' ')) > 6:\n",
    "        return True\n",
    "    acc_log.add(linha)\n",
    "    return False\n",
    "\n",
    "def tratar(linha):\n",
    "    host, _, _, timestamp, *resto = linha.split()\n",
    "    byte_qtd = resto.pop(-1)\n",
    "    return_code = resto.pop(-1)\n",
    "    fuso = resto.pop(0)[:-1]\n",
    "    req = ' '.join(resto)\n",
    "    return host, timestamp[1:12], req, return_code, int(byte_qtd) if byte_qtd is not '-' else 0\n",
    "\n",
    "    \n",
    "_f = sc.textFile('*gz').filter(filtro).map(tratar)\n",
    "\n",
    "df = _f.toDF().selectExpr('_1 as host', '_2 as timestamp', '_3 as req', '_4 as return_code', '_5 as byte_qtd')"
   ]
  },
  {
   "cell_type": "markdown",
   "metadata": {},
   "source": [
    "    Executando uma ação para obter os resultados:"
   ]
  },
  {
   "cell_type": "code",
   "execution_count": 4,
   "metadata": {
    "scrolled": true
   },
   "outputs": [
    {
     "name": "stdout",
     "output_type": "stream",
     "text": [
      "+--------------------+-----------+--------------------+-----------+--------+\n",
      "|                host|  timestamp|                 req|return_code|byte_qtd|\n",
      "+--------------------+-----------+--------------------+-----------+--------+\n",
      "|   in24.inetnebr.com|01/Aug/1995|\"GET /shuttle/mis...|        200|    1839|\n",
      "|     uplherc.upl.com|01/Aug/1995|    \"GET / HTTP/1.0\"|        304|       0|\n",
      "|     uplherc.upl.com|01/Aug/1995|\"GET /images/kscl...|        304|       0|\n",
      "|     uplherc.upl.com|01/Aug/1995|\"GET /images/MOSA...|        304|       0|\n",
      "|     uplherc.upl.com|01/Aug/1995|\"GET /images/USA-...|        304|       0|\n",
      "|ix-esc-ca2-07.ix....|01/Aug/1995|\"GET /images/laun...|        200|    1713|\n",
      "|     uplherc.upl.com|01/Aug/1995|\"GET /images/WORL...|        304|       0|\n",
      "|slppp6.intermind.net|01/Aug/1995|\"GET /history/sky...|        200|    1687|\n",
      "|piweba4y.prodigy.com|01/Aug/1995|\"GET /images/laun...|        200|   11853|\n",
      "|slppp6.intermind.net|01/Aug/1995|\"GET /history/sky...|        200|    9202|\n",
      "+--------------------+-----------+--------------------+-----------+--------+\n",
      "only showing top 10 rows\n",
      "\n"
     ]
    }
   ],
   "source": [
    "df.cache()\n",
    "df.count()\n",
    "df.show(10)"
   ]
  },
  {
   "cell_type": "markdown",
   "metadata": {},
   "source": [
    "    Imprimindo linhas com defeito, para conferência:"
   ]
  },
  {
   "cell_type": "code",
   "execution_count": 5,
   "metadata": {
    "scrolled": false
   },
   "outputs": [
    {
     "name": "stdout",
     "output_type": "stream",
     "text": [
      "alyssa.p\n"
     ]
    }
   ],
   "source": [
    "linhas_defeituosas = acc_log.value.split('|')\n",
    "for linha in linhas_defeituosas:\n",
    "    if linha:\n",
    "        print(linha)"
   ]
  },
  {
   "cell_type": "markdown",
   "metadata": {},
   "source": [
    " \n",
    " "
   ]
  },
  {
   "cell_type": "markdown",
   "metadata": {},
   "source": [
    "    Obtendo hosts unicos:"
   ]
  },
  {
   "cell_type": "code",
   "execution_count": 6,
   "metadata": {},
   "outputs": [
    {
     "name": "stdout",
     "output_type": "stream",
     "text": [
      "+--------------------+\n",
      "|                host|\n",
      "+--------------------+\n",
      "|ix-sea6-23.ix.net...|\n",
      "|grimnet23.idirect...|\n",
      "|      ird.scitex.com|\n",
      "|      163.205.166.15|\n",
      "|   chrism.tmx.com.au|\n",
      "| boom.marblehead.com|\n",
      "|        199.3.230.80|\n",
      "|  enigma.idirect.com|\n",
      "|ip26.abq-dialin.h...|\n",
      "|   ppp20.coara.or.jp|\n",
      "+--------------------+\n",
      "only showing top 10 rows\n",
      "\n"
     ]
    }
   ],
   "source": [
    "hosts_return = df.select('host', 'return_code')\n",
    "hosts_unicos = hosts_return.select('host').distinct()\n",
    "\n",
    "\n",
    "hosts_unicos.show(10)"
   ]
  },
  {
   "cell_type": "markdown",
   "metadata": {},
   "source": [
    "                                        Número de hosts únicos:"
   ]
  },
  {
   "cell_type": "code",
   "execution_count": 7,
   "metadata": {},
   "outputs": [
    {
     "data": {
      "text/plain": [
       "137978"
      ]
     },
     "execution_count": 7,
     "metadata": {},
     "output_type": "execute_result"
    }
   ],
   "source": [
    "hosts_unicos.count()"
   ]
  },
  {
   "cell_type": "markdown",
   "metadata": {},
   "source": [
    "------------------------------------------------------------------------"
   ]
  },
  {
   "cell_type": "markdown",
   "metadata": {},
   "source": [
    "                                            Número de \"404\":"
   ]
  },
  {
   "cell_type": "code",
   "execution_count": 8,
   "metadata": {},
   "outputs": [
    {
     "data": {
      "text/plain": [
       "20901"
      ]
     },
     "execution_count": 8,
     "metadata": {},
     "output_type": "execute_result"
    }
   ],
   "source": [
    "hosts_return404 = hosts_return.where('return_code = \"404\"')\n",
    "hosts_return404.count()"
   ]
  },
  {
   "cell_type": "markdown",
   "metadata": {},
   "source": [
    "------------------------------------------------------------------------"
   ]
  },
  {
   "cell_type": "markdown",
   "metadata": {},
   "source": [
    "                                    Os 5 URLs que mais causaram erro 404"
   ]
  },
  {
   "cell_type": "code",
   "execution_count": 9,
   "metadata": {},
   "outputs": [
    {
     "name": "stdout",
     "output_type": "stream",
     "text": [
      "\n",
      "Quantidade:  2004 \t\t URL: /pub/winvn/readme.txt\n",
      "Quantidade:  1732 \t\t URL: /pub/winvn/release.txt\n",
      "Quantidade:  682 \t\t URL: /shuttle/missions/STS-69/mission-STS-69.html\n",
      "Quantidade:  426 \t\t URL: /shuttle/missions/sts-68/ksc-upclose.gif\n",
      "Quantidade:  384 \t\t URL: /history/apollo/a-001/a-001-patch-small.gif\n"
     ]
    }
   ],
   "source": [
    "url_404 = df.where('return_code = \"404\"').select('req')\n",
    "\n",
    "from collections import Counter\n",
    "contador = Counter()\n",
    "\n",
    "# Poderia manter distribuído usando acumulador ou um map + reduce, como o usado mais adiante,\n",
    "# Mas essa abordagem é mais simples, e a quantidade de itens não justifica o uso do spark\n",
    "url_404 = url_404.collect()\n",
    "\n",
    "for item in url_404:\n",
    "    contador.update((item['req'].split()[1],))\n",
    "\n",
    "print()\n",
    "for url, qtd in contador.most_common(5):\n",
    "    print(f'Quantidade:  {qtd} \\t\\t URL: {url}')"
   ]
  },
  {
   "cell_type": "markdown",
   "metadata": {},
   "source": [
    "------------------------------------------------------------------------"
   ]
  },
  {
   "cell_type": "markdown",
   "metadata": {},
   "source": [
    "                                    Quantidade de erros 404 por dia."
   ]
  },
  {
   "cell_type": "code",
   "execution_count": 10,
   "metadata": {},
   "outputs": [
    {
     "name": "stdout",
     "output_type": "stream",
     "text": [
      "\n",
      "Data: 01/Jul/1995, \t Quantidade:316\n",
      "Data: 02/Jul/1995, \t Quantidade:291\n",
      "Data: 03/Jul/1995, \t Quantidade:474\n",
      "Data: 04/Jul/1995, \t Quantidade:359\n",
      "Data: 05/Jul/1995, \t Quantidade:497\n",
      "Data: 06/Jul/1995, \t Quantidade:640\n",
      "Data: 07/Jul/1995, \t Quantidade:570\n",
      "Data: 08/Jul/1995, \t Quantidade:302\n",
      "Data: 09/Jul/1995, \t Quantidade:348\n",
      "Data: 10/Jul/1995, \t Quantidade:398\n",
      "Data: 11/Jul/1995, \t Quantidade:471\n",
      "Data: 12/Jul/1995, \t Quantidade:471\n",
      "Data: 13/Jul/1995, \t Quantidade:532\n",
      "Data: 14/Jul/1995, \t Quantidade:413\n",
      "Data: 15/Jul/1995, \t Quantidade:254\n",
      "Data: 16/Jul/1995, \t Quantidade:257\n",
      "Data: 17/Jul/1995, \t Quantidade:406\n",
      "Data: 18/Jul/1995, \t Quantidade:465\n",
      "Data: 19/Jul/1995, \t Quantidade:639\n",
      "Data: 20/Jul/1995, \t Quantidade:428\n",
      "Data: 21/Jul/1995, \t Quantidade:334\n",
      "Data: 22/Jul/1995, \t Quantidade:192\n",
      "Data: 23/Jul/1995, \t Quantidade:233\n",
      "Data: 24/Jul/1995, \t Quantidade:328\n",
      "Data: 25/Jul/1995, \t Quantidade:461\n",
      "Data: 26/Jul/1995, \t Quantidade:336\n",
      "Data: 27/Jul/1995, \t Quantidade:336\n",
      "Data: 28/Jul/1995, \t Quantidade:94\n",
      "Data: 01/Aug/1995, \t Quantidade:243\n",
      "Data: 03/Aug/1995, \t Quantidade:304\n",
      "Data: 04/Aug/1995, \t Quantidade:346\n",
      "Data: 05/Aug/1995, \t Quantidade:236\n",
      "Data: 06/Aug/1995, \t Quantidade:373\n",
      "Data: 07/Aug/1995, \t Quantidade:537\n",
      "Data: 08/Aug/1995, \t Quantidade:391\n",
      "Data: 09/Aug/1995, \t Quantidade:279\n",
      "Data: 10/Aug/1995, \t Quantidade:315\n",
      "Data: 11/Aug/1995, \t Quantidade:263\n",
      "Data: 12/Aug/1995, \t Quantidade:196\n",
      "Data: 13/Aug/1995, \t Quantidade:216\n",
      "Data: 14/Aug/1995, \t Quantidade:287\n",
      "Data: 15/Aug/1995, \t Quantidade:327\n",
      "Data: 16/Aug/1995, \t Quantidade:259\n",
      "Data: 17/Aug/1995, \t Quantidade:271\n",
      "Data: 18/Aug/1995, \t Quantidade:256\n",
      "Data: 19/Aug/1995, \t Quantidade:209\n",
      "Data: 20/Aug/1995, \t Quantidade:312\n",
      "Data: 21/Aug/1995, \t Quantidade:305\n",
      "Data: 22/Aug/1995, \t Quantidade:288\n",
      "Data: 23/Aug/1995, \t Quantidade:345\n",
      "Data: 24/Aug/1995, \t Quantidade:420\n",
      "Data: 25/Aug/1995, \t Quantidade:415\n",
      "Data: 26/Aug/1995, \t Quantidade:366\n",
      "Data: 27/Aug/1995, \t Quantidade:370\n",
      "Data: 28/Aug/1995, \t Quantidade:410\n",
      "Data: 29/Aug/1995, \t Quantidade:420\n",
      "Data: 30/Aug/1995, \t Quantidade:571\n",
      "Data: 31/Aug/1995, \t Quantidade:526\n",
      "\n",
      "Total de erros \"404\" retornados: 20901\n"
     ]
    }
   ],
   "source": [
    "datas = df.where('return_code = \"404\"').select('timestamp')\n",
    "\n",
    "datas = datas.rdd.map(lambda l: l['timestamp'].split(':')[0])\n",
    "unicas_por_dia = datas.map(lambda x:(x, 1)).reduceByKey(lambda x,y: x+y).cache()\n",
    "\n",
    "unicas_por_dia_jl = unicas_por_dia.filter(lambda x: 'Jul' in x[0]).collect()\n",
    "unicas_por_dia_ag = unicas_por_dia.filter(lambda x: 'Aug' in x[0]).collect()\n",
    "\n",
    "unicas_por_dia_jl.sort()\n",
    "unicas_por_dia_ag.sort()\n",
    "\n",
    "unicas_por_dia_jl.extend(unicas_por_dia_ag)\n",
    "\n",
    "print()\n",
    "q_total=0\n",
    "for dia, qtd in unicas_por_dia_jl:\n",
    "    q_total += qtd\n",
    "    print(f'Data: {dia}, \\t Quantidade:{qtd}')\n",
    "\n",
    "print(f'\\nTotal de erros \"404\" retornados: {q_total}')"
   ]
  },
  {
   "cell_type": "markdown",
   "metadata": {},
   "source": [
    "Aparentemente não houveram acessos com erro dia 02 de Agosto e nos dias 29, 30 e 31 de Julho de 1995..."
   ]
  },
  {
   "cell_type": "markdown",
   "metadata": {},
   "source": [
    "Por ser estranho procurei no arquivo por qualquer acesso nos mesmos dias."
   ]
  },
  {
   "cell_type": "markdown",
   "metadata": {},
   "source": [
    "Não ocorreram. Talvez o arquivo está incompleto ou o site não estivesse online."
   ]
  },
  {
   "cell_type": "markdown",
   "metadata": {},
   "source": [
    "------------------------------------------------------------------------"
   ]
  },
  {
   "cell_type": "code",
   "execution_count": 11,
   "metadata": {
    "collapsed": true
   },
   "outputs": [],
   "source": [
    "dados = df.select('timestamp', 'byte_qtd').rdd\n",
    "dados = dados.map(lambda l: (l['timestamp'], l['byte_qtd']))\n",
    "\n",
    "data_byte_qtd = dados.reduceByKey(lambda x,y: x+y)\n",
    "# data_byte_qtd.take(10)"
   ]
  },
  {
   "cell_type": "markdown",
   "metadata": {},
   "source": [
    "                                        Total de bytes retornados."
   ]
  },
  {
   "cell_type": "code",
   "execution_count": 12,
   "metadata": {},
   "outputs": [
    {
     "name": "stdout",
     "output_type": "stream",
     "text": [
      "\n",
      "Data: 01/Jul/1995, \t Dados retornados: 1542.69 MB\n",
      "Data: 02/Jul/1995, \t Dados retornados: 1460.82 MB\n",
      "Data: 03/Jul/1995, \t Dados retornados: 1988.72 MB\n",
      "Data: 04/Jul/1995, \t Dados retornados: 1663.66 MB\n",
      "Data: 05/Jul/1995, \t Dados retornados: 1956.22 MB\n",
      "Data: 06/Jul/1995, \t Dados retornados: 2116.21 MB\n",
      "Data: 07/Jul/1995, \t Dados retornados: 1861.86 MB\n",
      "Data: 08/Jul/1995, \t Dados retornados: 885.15 MB\n",
      "Data: 09/Jul/1995, \t Dados retornados: 719.24 MB\n",
      "Data: 10/Jul/1995, \t Dados retornados: 1312.90 MB\n",
      "Data: 11/Jul/1995, \t Dados retornados: 1323.69 MB\n",
      "Data: 12/Jul/1995, \t Dados retornados: 1635.70 MB\n",
      "Data: 13/Jul/1995, \t Dados retornados: 2512.72 MB\n",
      "Data: 14/Jul/1995, \t Dados retornados: 1833.45 MB\n",
      "Data: 15/Jul/1995, \t Dados retornados: 930.86 MB\n",
      "Data: 16/Jul/1995, \t Dados retornados: 992.72 MB\n",
      "Data: 17/Jul/1995, \t Dados retornados: 1366.46 MB\n",
      "Data: 18/Jul/1995, \t Dados retornados: 1123.15 MB\n",
      "Data: 19/Jul/1995, \t Dados retornados: 1296.92 MB\n",
      "Data: 20/Jul/1995, \t Dados retornados: 1150.00 MB\n",
      "Data: 21/Jul/1995, \t Dados retornados: 1078.90 MB\n",
      "Data: 22/Jul/1995, \t Dados retornados: 635.96 MB\n",
      "Data: 23/Jul/1995, \t Dados retornados: 730.70 MB\n",
      "Data: 24/Jul/1995, \t Dados retornados: 1156.94 MB\n",
      "Data: 25/Jul/1995, \t Dados retornados: 1095.31 MB\n",
      "Data: 26/Jul/1995, \t Dados retornados: 993.13 MB\n",
      "Data: 27/Jul/1995, \t Dados retornados: 1072.74 MB\n",
      "Data: 28/Jul/1995, \t Dados retornados: 466.53 MB\n",
      "Data: 01/Aug/1995, \t Dados retornados: 504.80 MB\n",
      "Data: 03/Aug/1995, \t Dados retornados: 699.00 MB\n",
      "Data: 04/Aug/1995, \t Dados retornados: 1058.34 MB\n",
      "Data: 05/Aug/1995, \t Dados retornados: 585.18 MB\n",
      "Data: 06/Aug/1995, \t Dados retornados: 604.74 MB\n",
      "Data: 07/Aug/1995, \t Dados retornados: 913.47 MB\n",
      "Data: 08/Aug/1995, \t Dados retornados: 1013.95 MB\n",
      "Data: 09/Aug/1995, \t Dados retornados: 935.43 MB\n",
      "Data: 10/Aug/1995, \t Dados retornados: 986.91 MB\n",
      "Data: 11/Aug/1995, \t Dados retornados: 1051.64 MB\n",
      "Data: 12/Aug/1995, \t Dados retornados: 663.37 MB\n",
      "Data: 13/Aug/1995, \t Dados retornados: 664.54 MB\n",
      "Data: 14/Aug/1995, \t Dados retornados: 1033.34 MB\n",
      "Data: 15/Aug/1995, \t Dados retornados: 1005.57 MB\n",
      "Data: 16/Aug/1995, \t Dados retornados: 948.57 MB\n",
      "Data: 17/Aug/1995, \t Dados retornados: 997.49 MB\n",
      "Data: 18/Aug/1995, \t Dados retornados: 863.46 MB\n",
      "Data: 19/Aug/1995, \t Dados retornados: 552.69 MB\n",
      "Data: 20/Aug/1995, \t Dados retornados: 581.77 MB\n",
      "Data: 21/Aug/1995, \t Dados retornados: 877.78 MB\n",
      "Data: 22/Aug/1995, \t Dados retornados: 899.40 MB\n",
      "Data: 23/Aug/1995, \t Dados retornados: 909.14 MB\n",
      "Data: 24/Aug/1995, \t Dados retornados: 767.20 MB\n",
      "Data: 25/Aug/1995, \t Dados retornados: 925.13 MB\n",
      "Data: 26/Aug/1995, \t Dados retornados: 561.51 MB\n",
      "Data: 27/Aug/1995, \t Dados retornados: 549.29 MB\n",
      "Data: 28/Aug/1995, \t Dados retornados: 803.16 MB\n",
      "Data: 29/Aug/1995, \t Dados retornados: 1038.77 MB\n",
      "Data: 30/Aug/1995, \t Dados retornados: 1229.03 MB\n",
      "Data: 31/Aug/1995, \t Dados retornados: 1360.82 MB\n",
      "\n",
      "Total de dados retornados: 61.02 GB\n"
     ]
    }
   ],
   "source": [
    "resultados = data_byte_qtd.sortByKey().collect()\n",
    "\n",
    "r1 = sorted([r for r in resultados if 'Jul' in r[0]])\n",
    "r2 = sorted([r for r in resultados if 'Aug' in r[0]])\n",
    "\n",
    "r1.extend(r2)\n",
    "\n",
    "print()\n",
    "\n",
    "\n",
    "q_total = 0\n",
    "for dia, qtd in r1:\n",
    "    q_total += qtd\n",
    "    print(f'Data: {dia}, \\t Dados retornados: {qtd/1048576:.2f} MB')\n",
    "\n",
    "print(f'\\nTotal de dados retornados: {q_total/1073741824:.2f} GB')"
   ]
  }
 ],
 "metadata": {
  "kernelspec": {
   "display_name": "Python 3",
   "language": "python",
   "name": "python3"
  },
  "language_info": {
   "codemirror_mode": {
    "name": "ipython",
    "version": 3
   },
   "file_extension": ".py",
   "mimetype": "text/x-python",
   "name": "python",
   "nbconvert_exporter": "python",
   "pygments_lexer": "ipython3",
   "version": "3.6.1"
  }
 },
 "nbformat": 4,
 "nbformat_minor": 2
}
