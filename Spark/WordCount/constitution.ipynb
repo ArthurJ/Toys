{
 "cells": [
  {
   "cell_type": "markdown",
   "metadata": {},
   "source": [
    "## Which words written on US constitution still in regular use today? How many times each of these words are used on US constitution?"
   ]
  },
  {
   "cell_type": "code",
   "execution_count": 1,
   "metadata": {},
   "outputs": [],
   "source": [
    "import re\n",
    "from pyspark.sql.types import Row"
   ]
  },
  {
   "cell_type": "code",
   "execution_count": 2,
   "metadata": {},
   "outputs": [
    {
     "name": "stdout",
     "output_type": "stream",
     "text": [
      "+-------+---+\n",
      "|     _1| _2|\n",
      "+-------+---+\n",
      "| united| 96|\n",
      "|     of|558|\n",
      "|america|  5|\n",
      "|     we|  2|\n",
      "|     in|155|\n",
      "+-------+---+\n",
      "only showing top 5 rows\n",
      "\n"
     ]
    }
   ],
   "source": [
    "regex = re.compile('[^a-zA-Z]')\n",
    "\n",
    "constitution_words = sc.textFile('us_constitution.txt') \\\n",
    "                        .flatMap(lambda x: x.split()) \\\n",
    "                        .map(lambda x: regex.sub('', x.lower())) \\\n",
    "                        .map(lambda x: (x,1)) \\\n",
    "                        .reduceByKey(lambda x,y: x+y)\\\n",
    "                        .filter(lambda x: x[0])\n",
    "\n",
    "constitution_words_df = constitution_words.map(lambda x: Row(*x)).toDF()\n",
    "constitution_words_df.show(5) "
   ]
  },
  {
   "cell_type": "code",
   "execution_count": 3,
   "metadata": {},
   "outputs": [
    {
     "name": "stdout",
     "output_type": "stream",
     "text": [
      "+---+\n",
      "| _1|\n",
      "+---+\n",
      "|the|\n",
      "| of|\n",
      "|and|\n",
      "| to|\n",
      "|  a|\n",
      "+---+\n",
      "only showing top 5 rows\n",
      "\n"
     ]
    }
   ],
   "source": [
    "top_words = sc.textFile('top_english_words.txt')\n",
    "# top_words.take(5)\n",
    "\n",
    "top_words_df = top_words.map(lambda x: Row(x)).toDF()\n",
    "top_words_df.show(5)"
   ]
  },
  {
   "cell_type": "code",
   "execution_count": 4,
   "metadata": {},
   "outputs": [],
   "source": [
    "top_words_df.registerTempTable('top_words')\n",
    "constitution_words_df.registerTempTable('constitution')"
   ]
  },
  {
   "cell_type": "code",
   "execution_count": 5,
   "metadata": {},
   "outputs": [],
   "source": [
    "top_words_on_constitution = \\\n",
    "    sqlContext.sql('''\n",
    "                    select c._1 word, c._2 events\n",
    "                    from \n",
    "                        constitution c\n",
    "                        inner join top_words t\n",
    "                    where t._1 == c._1\n",
    "                    order by events DESC\n",
    "    ''')"
   ]
  },
  {
   "cell_type": "code",
   "execution_count": 6,
   "metadata": {},
   "outputs": [
    {
     "name": "stdout",
     "output_type": "stream",
     "text": [
      "Das 1261 palavras únicas da constituição foram encontradas 888 nas 10 mil palavras mais usadas no google\n"
     ]
    }
   ],
   "source": [
    "print(f'Das {constitution_words.count()} palavras únicas da constituição foram encontradas {top_words_on_constitution.count()} nas 10 mil palavras mais usadas no google')"
   ]
  },
  {
   "cell_type": "code",
   "execution_count": 7,
   "metadata": {},
   "outputs": [
    {
     "name": "stdout",
     "output_type": "stream",
     "text": [
      "+------+------+\n",
      "|  word|events|\n",
      "+------+------+\n",
      "|   the|   847|\n",
      "|    of|   558|\n",
      "| shall|   332|\n",
      "|   and|   295|\n",
      "|    to|   226|\n",
      "|    be|   200|\n",
      "|    or|   173|\n",
      "|    in|   155|\n",
      "|states|   146|\n",
      "|    by|   119|\n",
      "+------+------+\n",
      "only showing top 10 rows\n",
      "\n"
     ]
    }
   ],
   "source": [
    "top_words_on_constitution.show(10)"
   ]
  },
  {
   "cell_type": "code",
   "execution_count": 8,
   "metadata": {},
   "outputs": [],
   "source": [
    "#top_words_on_constitution.repartition(1).write.csv('result')"
   ]
  }
 ],
 "metadata": {
  "kernelspec": {
   "display_name": "Python 3",
   "language": "python",
   "name": "python3"
  },
  "language_info": {
   "codemirror_mode": {
    "name": "ipython",
    "version": 3
   },
   "file_extension": ".py",
   "mimetype": "text/x-python",
   "name": "python",
   "nbconvert_exporter": "python",
   "pygments_lexer": "ipython3",
   "version": "3.7.1"
  }
 },
 "nbformat": 4,
 "nbformat_minor": 2
}
